{
 "cells": [
  {
   "cell_type": "code",
   "execution_count": 4,
   "metadata": {},
   "outputs": [
    {
     "name": "stdout",
     "output_type": "stream",
     "text": [
      "Please enter a positive integer number : 407\n",
      "407\n",
      "407 is an Armstrong number\n"
     ]
    }
   ],
   "source": [
    "# C8164 - Adem\n",
    "\n",
    "number = input(\"Please enter a positive integer number : \")\n",
    "print(number)\n",
    "\n",
    "total = 0\n",
    "if number.isdigit():\n",
    "    a = number.split()\n",
    "    for i in range(len(a[0])):\n",
    "        total += int(a[0][i])**len(a[0])\n",
    "    if total == int(number):\n",
    "        print(number, \"is an Armstrong number\")\n",
    "    else:\n",
    "        print(number, \"is not an Armstrong number\")\n",
    "else:\n",
    "    print(\" It is an invalid entry. Don't use non-numeric, float, or negative values!\")"
   ]
  },
  {
   "cell_type": "code",
   "execution_count": null,
   "metadata": {},
   "outputs": [],
   "source": []
  }
 ],
 "metadata": {
  "kernelspec": {
   "display_name": "Python 3",
   "language": "python",
   "name": "python3"
  },
  "language_info": {
   "codemirror_mode": {
    "name": "ipython",
    "version": 3
   },
   "file_extension": ".py",
   "mimetype": "text/x-python",
   "name": "python",
   "nbconvert_exporter": "python",
   "pygments_lexer": "ipython3",
   "version": "3.8.5"
  },
  "metadata": {
   "interpreter": {
    "hash": "f242dc54bb667eb7fbf88e702b1c82b58667dfea2acd7f62887fdb0f52f7a799"
   }
  }
 },
 "nbformat": 4,
 "nbformat_minor": 2
}
