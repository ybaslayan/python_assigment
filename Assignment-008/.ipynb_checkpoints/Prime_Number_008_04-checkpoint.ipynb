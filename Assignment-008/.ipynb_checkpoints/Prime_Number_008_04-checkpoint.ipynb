{
 "cells": [
  {
   "cell_type": "code",
   "execution_count": 4,
   "metadata": {},
   "outputs": [
    {
     "name": "stdout",
     "output_type": "stream",
     "text": [
      "Please enter a positive integer number : 19\n",
      "19 is a prime number!\n"
     ]
    }
   ],
   "source": [
    "number = input(\"Please enter a positive integer number : \")\n",
    "\n",
    "\n",
    "if number.isdigit():\n",
    "    number = int(number)\n",
    "    x = number-1\n",
    "    while x>1:\n",
    "        if number%x==0:\n",
    "            print('{} is not a prime number!'.format(number))\n",
    "            break\n",
    "        else:\n",
    "            x-=1\n",
    "    else:\n",
    "        print('{} is a prime number!'.format(number))\n",
    "else:\n",
    "    print(\" It is an invalid entry. Don't use non-numeric, float, or negative values!\")"
   ]
  }
 ],
 "metadata": {
  "kernelspec": {
   "display_name": "Python 3",
   "language": "python",
   "name": "python3"
  },
  "language_info": {
   "codemirror_mode": {
    "name": "ipython",
    "version": 3
   },
   "file_extension": ".py",
   "mimetype": "text/x-python",
   "name": "python",
   "nbconvert_exporter": "python",
   "pygments_lexer": "ipython3",
   "version": "3.8.5"
  }
 },
 "nbformat": 4,
 "nbformat_minor": 4
}
