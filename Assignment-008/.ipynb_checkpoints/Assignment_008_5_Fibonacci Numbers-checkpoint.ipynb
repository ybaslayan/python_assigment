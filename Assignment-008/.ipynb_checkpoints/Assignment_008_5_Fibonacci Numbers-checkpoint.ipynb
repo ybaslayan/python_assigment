{
 "cells": [
  {
   "cell_type": "code",
   "execution_count": 2,
   "metadata": {},
   "outputs": [
    {
     "name": "stdout",
     "output_type": "stream",
     "text": [
      "[1, 1, 2, 3, 5, 8, 13, 21, 34, 55]\n"
     ]
    }
   ],
   "source": [
    "### Designed by C8164 - Adem ###\n",
    "\n",
    "a = 1\n",
    "b = 0\n",
    "fibo = []\n",
    "\n",
    "while b < len(range(55)):\n",
    "    f1= a + b\n",
    "    a = b\n",
    "    b = f1\n",
    "    fibo.append(f1)\n",
    "print(fibo)\n"
   ]
  },
  {
   "cell_type": "code",
   "execution_count": 3,
   "metadata": {},
   "outputs": [
    {
     "name": "stdout",
     "output_type": "stream",
     "text": [
      "[1, 1, 2, 3, 5, 8, 13, 21, 34, 55]\n"
     ]
    }
   ],
   "source": [
    "fibonacci = [1, 1]\n",
    "for i in range(100) :\n",
    "  fibonacci.append(fibonacci[i]+fibonacci[i+1])\n",
    "  if max(fibonacci) == 55 :\n",
    "    break\n",
    "print(fibonacci)"
   ]
  },
  {
   "cell_type": "code",
   "execution_count": 4,
   "metadata": {},
   "outputs": [
    {
     "name": "stdout",
     "output_type": "stream",
     "text": [
      "[1, 1, 2, 3, 5, 8, 13, 21, 34, 55]\n"
     ]
    }
   ],
   "source": [
    "def fibanocci(n):\n",
    "    dizi = [1, 1]\n",
    "    for i in range(2, n+1):\n",
    "        dizi.append(dizi[i-2] + dizi[i-1])\n",
    "    return dizi\n",
    "print(fibanocci(9))"
   ]
  }
 ],
 "metadata": {
  "kernelspec": {
   "display_name": "Python 3",
   "language": "python",
   "name": "python3"
  },
  "language_info": {
   "codemirror_mode": {
    "name": "ipython",
    "version": 3
   },
   "file_extension": ".py",
   "mimetype": "text/x-python",
   "name": "python",
   "nbconvert_exporter": "python",
   "pygments_lexer": "ipython3",
   "version": "3.8.5"
  }
 },
 "nbformat": 4,
 "nbformat_minor": 4
}
