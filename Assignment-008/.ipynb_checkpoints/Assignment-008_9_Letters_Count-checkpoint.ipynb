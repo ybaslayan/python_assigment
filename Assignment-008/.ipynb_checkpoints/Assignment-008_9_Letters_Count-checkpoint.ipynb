{
 "cells": [
  {
   "cell_type": "markdown",
   "metadata": {},
   "source": [
    "Task:\n",
    "Count the number of each letter in a sentence.\n",
    "\n",
    "    The department you work for undertook a project construction that makes word / text analysis. You are asked to calculate the number of letters or any chars in the sentences entered under this project.\n",
    "    Write a Python program that;\n",
    "\n",
    "    takes a sentence from the user,\n",
    "    counts the number of each letter of the sentence,\n",
    "    collects the letters/chars as a key and the counted numbers as a value in a dictionary.\n",
    "\n",
    "\n",
    "Examples Sample inputs \tOutputs\n",
    "hippo runs to us! \t\n",
    "\n",
    "{'s': 2, 'r': 1, 't': 1, 'h': 1, 'n': 1, \n",
    "'i': 1, 'u': 2, 'o': 2, 'p': 2, ' ': 3, '!': 1}"
   ]
  },
  {
   "cell_type": "code",
   "execution_count": 5,
   "metadata": {},
   "outputs": [
    {
     "name": "stdout",
     "output_type": "stream",
     "text": [
      "Please enter the sentence you want to check : hippo runs to us!\n",
      "{'h': 1, 'i': 1, 'p': 2, 'o': 2, ' ': 3, 'r': 1, 'u': 2, 'n': 1, 's': 2, 't': 1, '!': 1}\n"
     ]
    }
   ],
   "source": [
    "# Assignment-008/9 (Letters Count)\n",
    "# Designed by C8164-Adem\n",
    "\n",
    "sentences = input(\"Please enter the sentence you want to check : \")\n",
    "\n",
    "\n",
    "test = {}\n",
    "\n",
    "\n",
    "for i in sentences:\n",
    "    test[i]=sentences.count(i)\n",
    "print(test)"
   ]
  }
 ],
 "metadata": {
  "kernelspec": {
   "display_name": "Python 3",
   "language": "python",
   "name": "python3"
  },
  "language_info": {
   "codemirror_mode": {
    "name": "ipython",
    "version": 3
   },
   "file_extension": ".py",
   "mimetype": "text/x-python",
   "name": "python",
   "nbconvert_exporter": "python",
   "pygments_lexer": "ipython3",
   "version": "3.8.5"
  }
 },
 "nbformat": 4,
 "nbformat_minor": 4
}
