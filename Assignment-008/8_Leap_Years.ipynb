{
 "cells": [
  {
   "cell_type": "code",
   "execution_count": 8,
   "metadata": {},
   "outputs": [
    {
     "name": "stdout",
     "output_type": "stream",
     "text": [
      "True\n",
      "is leap year 2000\n"
     ]
    }
   ],
   "source": [
    "# Write your logic here\n",
    "year = int(input(\"Enter the year\")) \n",
    "if year%4==0:\n",
    "    leap=True\n",
    "    if year%100==0:\n",
    "        leap=False\n",
    "        if year%400==0:\n",
    "         leap=True\n",
    "         print(leap)\n",
    "print(\"is leap year\", year)\n"
   ]
  },
  {
   "cell_type": "code",
   "execution_count": null,
   "metadata": {},
   "outputs": [],
   "source": [
    "year = int(input(\"Lütfen 4 haneli olacak şekilde yıl giriniz: \"))\n",
    "\n",
    "if year % 4 == 0 and year % 100 == 0:\n",
    "    if year % 400 == 0:\n",
    "        print(f\"{year} artık yıldır.\")\n",
    "    else:\n",
    "        print(f\"{year} artık yıl değildir. \")\n",
    "elif year % 4 == 0:\n",
    "    print(f\"{year} artık yıldır\")\n",
    "else:\n",
    "    print(f\"{year} artık yıl değildir. \")\n"
   ]
  },
  {
   "cell_type": "code",
   "execution_count": null,
   "metadata": {},
   "outputs": [],
   "source": []
  }
 ],
 "metadata": {
  "kernelspec": {
   "display_name": "Python 3",
   "language": "python",
   "name": "python3"
  },
  "language_info": {
   "codemirror_mode": {
    "name": "ipython",
    "version": 3
   },
   "file_extension": ".py",
   "mimetype": "text/x-python",
   "name": "python",
   "nbconvert_exporter": "python",
   "pygments_lexer": "ipython3",
   "version": "3.8.5"
  },
  "metadata": {
   "interpreter": {
    "hash": "f242dc54bb667eb7fbf88e702b1c82b58667dfea2acd7f62887fdb0f52f7a799"
   }
  }
 },
 "nbformat": 4,
 "nbformat_minor": 2
}
