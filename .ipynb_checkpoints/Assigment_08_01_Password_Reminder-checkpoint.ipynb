{
 "cells": [
  {
   "cell_type": "code",
   "execution_count": 1,
   "metadata": {},
   "outputs": [
    {
     "name": "stdout",
     "output_type": "stream",
     "text": [
      "What is your name?\n",
      "Joseph\n",
      "Hello, Joseph! The password is : W@12\n"
     ]
    }
   ],
   "source": [
    "personel = {\n",
    "    'Joseph': 'W@12',\n",
    "    'Adam': 'Xzy%',\n",
    "    'Criss': 'kYt&',\n",
    "    'Eve': 'hT!x',\n",
    "    'Alec': 'pOn?'\n",
    "}\n",
    "\n",
    "user = input(\"What is your name?\\n\")\n",
    "\n",
    "ver = personel.get(user)\n",
    "\n",
    "if bool(ver) :\n",
    "    print(\"Hello, {}! The password is : {}\".format(user, ver))\n",
    "else :\n",
    "    print(\"Hello, {}! See you later.\".format(user))"
   ]
  }
 ],
 "metadata": {
  "kernelspec": {
   "display_name": "Python 3",
   "language": "python",
   "name": "python3"
  },
  "language_info": {
   "codemirror_mode": {
    "name": "ipython",
    "version": 3
   },
   "file_extension": ".py",
   "mimetype": "text/x-python",
   "name": "python",
   "nbconvert_exporter": "python",
   "pygments_lexer": "ipython3",
   "version": "3.8.5"
  }
 },
 "nbformat": 4,
 "nbformat_minor": 4
}
